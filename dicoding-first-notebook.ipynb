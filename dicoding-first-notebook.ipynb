{
 "cells": [
  {
   "cell_type": "markdown",
   "metadata": {},
   "source": [
    "# Proyek Analisis Data: Bike Sharing Dataset\n",
    "- **Nama:** Muhammad Surya Putra\n",
    "- **Email:** muhammadsuryaputra3@gmail.com\n",
    "- **ID Dicoding:** Muhammad Surya Putra"
   ]
  },
  {
   "cell_type": "markdown",
   "metadata": {},
   "source": [
    "## Menentukan Pertanyaan Bisnis\n",
    "\n",
    "- Pertanyaan 1: Bagaimana distribusi peminjaman untuk masing-masing musim dan kondisi cuaca?\n",
    "- Pertanyaan 2: Pengaruh hari kerja/ akhir pekan terhadap peminjaman untuk setiap musim?"
   ]
  },
  {
   "cell_type": "markdown",
   "metadata": {},
   "source": [
    "## Import library yang diperlukan"
   ]
  },
  {
   "cell_type": "code",
   "execution_count": 80,
   "metadata": {},
   "outputs": [],
   "source": [
    "# Import library yang diperlukan\n",
    "import streamlit as st\n",
    "import pandas as pd\n",
    "import seaborn as sns\n",
    "import matplotlib.pyplot as plt"
   ]
  },
  {
   "cell_type": "markdown",
   "metadata": {},
   "source": [
    "## Data Wrangling"
   ]
  },
  {
   "cell_type": "markdown",
   "metadata": {},
   "source": [
    "### Gathering Data"
   ]
  },
  {
   "cell_type": "code",
   "execution_count": 82,
   "metadata": {},
   "outputs": [
    {
     "name": "stderr",
     "output_type": "stream",
     "text": [
      "2024-03-12 10:38:54.110 No runtime found, using MemoryCacheStorageManager\n"
     ]
    }
   ],
   "source": [
    "# Fungsi untuk mengimpor data\n",
    "@st.cache_data\n",
    "def load_data():\n",
    "    data_df = pd.read_csv('day.csv')\n",
    "    return data_df\n",
    "\n",
    "# Fungsi untuk melakukan pembersihan data\n",
    "def clean_data(data_df):\n",
    "    data_df['season'] = data_df['season'].map({1: 'Spring', 2: 'Summer', 3: 'Fall', 4: 'Winter'})\n",
    "    return data_df\n",
    "\n",
    "# Fungsi untuk menampilkan gathering data\n",
    "def gather_data(data_df):\n",
    "    st.subheader(\"Gathering Data\")\n",
    "    st.write(\"Berikut merupakan dataset dari Bike Sharing pada skala hari\")\n",
    "    st.write(data_df)"
   ]
  },
  {
   "cell_type": "markdown",
   "metadata": {},
   "source": [
    "### Assesing Data"
   ]
  },
  {
   "cell_type": "code",
   "execution_count": 83,
   "metadata": {},
   "outputs": [],
   "source": [
    "# Fungsi untuk menampilkan assessing data\n",
    "def assess_data(data_df):\n",
    "    st.subheader(\"Assessing Data\")\n",
    "    st.write(\"Melakukan pemeriksaan parameter statistik menggunakan metode describe()\")\n",
    "    st.write(data_df.describe())"
   ]
  },
  {
   "cell_type": "markdown",
   "metadata": {},
   "source": [
    "### Cleaning Data"
   ]
  },
  {
   "cell_type": "code",
   "execution_count": 84,
   "metadata": {},
   "outputs": [],
   "source": [
    "# Fungsi untuk menampilkan cleaning data\n",
    "def clean_data_display(data_df):\n",
    "    st.subheader(\"Cleaning Data\")\n",
    "    st.write(\"Mengubah nilai dari parameter 'season' menjadi nama musim\")\n",
    "    cleaned_data_df = clean_data(data_df.copy())\n",
    "    st.write(cleaned_data_df)"
   ]
  },
  {
   "cell_type": "markdown",
   "metadata": {},
   "source": [
    "## Exploratory Data Analysis (EDA)"
   ]
  },
  {
   "cell_type": "markdown",
   "metadata": {},
   "source": [
    "### Exploratory"
   ]
  },
  {
   "cell_type": "code",
   "execution_count": 85,
   "metadata": {},
   "outputs": [],
   "source": [
    "# Fungsi untuk menjawab pertanyaan EDA\n",
    "def eda_questions(data_df):\n",
    "    st.subheader('Exploratory Data Analysis (EDA)')\n",
    "    \n",
    "    # Pertanyaan 1\n",
    "    st.markdown(\"### Pertanyaan 1: Distribusi Peminjaman untuk Masing-masing Musim dan Kondisi Cuaca\")\n",
    "    st.write(\"Bagaimana distribusi peminjaman untuk masing-masing musim dan kondisi cuaca?\")\n",
    "    st.write(\"Melakukan pemetaan tabel menggunakan pivot table\")\n",
    "    data_df['season'] = data_df['season'].map({1: 'Spring', 2: 'Summer', 3: 'Fall', 4: 'Winter'})\n",
    "    data_musim = data_df.groupby(by=[\"season\", \"weathersit\"]).agg({\n",
    "        \"casual\": \"nunique\",\n",
    "        \"registered\": \"nunique\"\n",
    "    })\n",
    "    st.write(data_musim)\n",
    "    st.write('Grafik')\n",
    "    data_musim['total'] = data_musim['casual'] + data_musim['registered']\n",
    "    fig, ax = plt.subplots()\n",
    "    sns.barplot(data=data_musim, x=\"season\", y=\"total\", hue=\"weathersit\", errorbar=None, ax=ax)\n",
    "    st.pyplot(fig)\n",
    "\n",
    "    # Pertanyaan 2\n",
    "    st.markdown(\"### Pertanyaan 2: Pengaruh Hari Kerja/Akhir Pekan terhadap Peminjaman untuk Setiap Musim\")\n",
    "    st.write(\"Pengaruh hari kerja/ akhir pekan terhadap peminjaman untuk setiap musim?\")\n",
    "    st.write(\"Melakukan pemetaan tabel menggunakan pivot table\")\n",
    "    data_holiday = data_df.groupby(by=\"season\").agg({\n",
    "        \"casual\": \"nunique\",\n",
    "        \"registered\": \"nunique\",\n",
    "    })\n",
    "    st.write(data_holiday)\n",
    "    st.write('Grafik')\n",
    "    data_holiday['total'] = data_holiday['casual'] + data_holiday['registered']\n",
    "    fig, ax = plt.subplots()\n",
    "    sns.scatterplot(data=data_holiday, x='season', y='casual', ax=ax)\n",
    "    sns.scatterplot(data=data_holiday, x='season', y='registered', ax=ax)\n",
    "    ax.set_ylim(150, 190)\n",
    "    st.pyplot(fig)"
   ]
  },
  {
   "cell_type": "markdown",
   "metadata": {},
   "source": [
    "## Visualization & Explanatory Analysis"
   ]
  },
  {
   "cell_type": "markdown",
   "metadata": {},
   "source": [
    "### Pertanyaan 1: "
   ]
  },
  {
   "cell_type": "code",
   "execution_count": 87,
   "metadata": {},
   "outputs": [
    {
     "ename": "IndentationError",
     "evalue": "expected an indented block after function definition on line 38 (4122450151.py, line 39)",
     "output_type": "error",
     "traceback": [
      "\u001b[1;36m  Cell \u001b[1;32mIn[87], line 39\u001b[1;36m\u001b[0m\n\u001b[1;33m    st.title('Analisis Data Bike Sharing')\u001b[0m\n\u001b[1;37m    ^\u001b[0m\n\u001b[1;31mIndentationError\u001b[0m\u001b[1;31m:\u001b[0m expected an indented block after function definition on line 38\n"
     ]
    }
   ],
   "source": [
    "\n",
    "    st.write(data_holiday)\n",
    "    st.write('Grafik')\n",
    "    data_holiday['total'] = data_holiday['casual'] + data_holiday['registered']\n",
    "    fig, ax = plt.subplots()\n",
    "    sns.scatterplot(data=data_holiday, x='season', y='casual', ax=ax)\n",
    "    sns.scatterplot(data=data_holiday, x='season', y='registered', ax=ax)\n",
    "    ax.set_ylim(150, 190)\n",
    "    st.pyplot(fig)\n",
    "    \n",
    "    # Kesimpulan Pertanyaan 1\n",
    "    st.subheader('Kesimpulan Pertanyaan 1:')\n",
    "    total_rental_per_season = data_df.groupby('season')[['casual', 'registered']].sum()  # Menggunakan sum untuk mendapatkan jumlah total peminjaman\n",
    "    st.write(\"Berdasarkan analisis, terlihat bahwa distribusi peminjaman berbeda-beda untuk setiap musim dan kondisi cuaca.\")\n",
    "    st.write(\"Total peminjaman untuk masing-masing musim:\")\n",
    "    st.write(total_rental_per_season)\n",
    "    \n",
    "    max_season = total_rental_per_season.sum(axis=1).idxmax()  # Menggunakan sum(axis=1) untuk mendapatkan total peminjaman\n",
    "    min_season = total_rental_per_season.sum(axis=1).idxmin()  # Menggunakan sum(axis=1) untuk mendapatkan total peminjaman\n",
    "    \n",
    "    seasons_map = {'Spring': 'Spring (Musim Semi)', 'Summer': 'Summer (Musim Panas)', 'Fall': 'Fall (Musim Gugur)', 'Winter': 'Winter (Musim Dingin)'}\n",
    "    \n",
    "    st.write(f\"Peminjam terbanyak berada pada {seasons_map[max_season]} dan peminjam paling sedikit berada pada {seasons_map[min_season]}.\")\n",
    "    \n",
    "    # Kesimpulan Pertanyaan 2\n",
    "    st.subheader('Kesimpulan Pertanyaan 2:')\n",
    "    weekday_vs_weekend = data_df.groupby('weekday')['cnt'].sum()\n",
    "    st.write(\"Berdasarkan analisis, terdapat hubungan antara hari kerja/akhir pekan dengan jumlah peminjaman untuk setiap musim.\")\n",
    "    st.write(\"Total peminjaman pada hari kerja vs akhir pekan:\")\n",
    "    st.write(weekday_vs_weekend)\n",
    "    \n",
    "    max_day = weekday_vs_weekend.idxmax()\n",
    "    min_day = weekday_vs_weekend.idxmin()\n",
    "    \n",
    "    days_map = {0: 'Minggu', 1: 'Senin', 2: 'Selasa', 3: 'Rabu', 4: 'Kamis', 5: 'Jumat', 6: 'Sabtu'}\n",
    "    \n",
    "    st.write(f\"Peminjam terbanyak berada pada hari {days_map[max_day]} dan peminjam paling sedikit berada pada hari {days_map[min_day]}.\")\n",
    "    \n",
    "def main():\n",
    "    st.title('Analisis Data Bike Sharing')\n",
    "    data_df = load_data()\n",
    "    \n",
    "    menu = [\"Data Wrangling\", \"Exploratory Data Analysis (EDA)\"]\n",
    "    choice = st.sidebar.selectbox(\"Pilihan Menu\", menu)\n",
    "\n",
    "    if choice == \"Data Wrangling\":\n",
    "        data_wrangling(data_df)\n",
    "    elif choice == \"Exploratory Data Analysis (EDA)\":\n",
    "        eda_questions(data_df)\n",
    "        \n",
    "    if __name__ == \"__main__\":\n",
    "        main() "
   ]
  },
  {
   "cell_type": "markdown",
   "metadata": {},
   "source": [
    "### Pertanyaan 2:"
   ]
  },
  {
   "cell_type": "code",
   "execution_count": 86,
   "metadata": {},
   "outputs": [
    {
     "ename": "NameError",
     "evalue": "name 'data_df' is not defined",
     "output_type": "error",
     "traceback": [
      "\u001b[1;31m---------------------------------------------------------------------------\u001b[0m",
      "\u001b[1;31mNameError\u001b[0m                                 Traceback (most recent call last)",
      "Cell \u001b[1;32mIn[86], line 3\u001b[0m\n\u001b[0;32m      1\u001b[0m \u001b[38;5;66;03m# Kesimpulan Pertanyaan 2\u001b[39;00m\n\u001b[0;32m      2\u001b[0m st\u001b[38;5;241m.\u001b[39msubheader(\u001b[38;5;124m'\u001b[39m\u001b[38;5;124mKesimpulan Pertanyaan 2:\u001b[39m\u001b[38;5;124m'\u001b[39m)\n\u001b[1;32m----> 3\u001b[0m weekday_vs_weekend \u001b[38;5;241m=\u001b[39m \u001b[43mdata_df\u001b[49m\u001b[38;5;241m.\u001b[39mgroupby(\u001b[38;5;124m'\u001b[39m\u001b[38;5;124mweekday\u001b[39m\u001b[38;5;124m'\u001b[39m)[\u001b[38;5;124m'\u001b[39m\u001b[38;5;124mcnt\u001b[39m\u001b[38;5;124m'\u001b[39m]\u001b[38;5;241m.\u001b[39msum()\n\u001b[0;32m      4\u001b[0m st\u001b[38;5;241m.\u001b[39mwrite(\u001b[38;5;124m\"\u001b[39m\u001b[38;5;124mBerdasarkan analisis, terdapat hubungan antara hari kerja/akhir pekan dengan jumlah peminjaman untuk setiap musim.\u001b[39m\u001b[38;5;124m\"\u001b[39m)\n\u001b[0;32m      5\u001b[0m st\u001b[38;5;241m.\u001b[39mwrite(\u001b[38;5;124m\"\u001b[39m\u001b[38;5;124mTotal peminjaman pada hari kerja vs akhir pekan:\u001b[39m\u001b[38;5;124m\"\u001b[39m)\n",
      "\u001b[1;31mNameError\u001b[0m: name 'data_df' is not defined"
     ]
    }
   ],
   "source": [
    "\n",
    "    # Kesimpulan Pertanyaan 2\n",
    "    st.subheader('Kesimpulan Pertanyaan 2:')\n",
    "    weekday_vs_weekend = data_df.groupby('weekday')['cnt'].sum()\n",
    "    st.write(\"Berdasarkan analisis, terdapat hubungan antara hari kerja/akhir pekan dengan jumlah peminjaman untuk setiap musim.\")\n",
    "    st.write(\"Total peminjaman pada hari kerja vs akhir pekan:\")\n",
    "    st.write(weekday_vs_weekend)\n",
    "    \n",
    "    max_day = weekday_vs_weekend.idxmax()\n",
    "    min_day = weekday_vs_weekend.idxmin()\n",
    "    \n",
    "    days_map = {0: 'Minggu', 1: 'Senin', 2: 'Selasa', 3: 'Rabu', 4: 'Kamis', 5: 'Jumat', 6: 'Sabtu'}\n",
    "    \n",
    "    st.write(f\"Peminjam terbanyak berada pada hari {days_map[max_day]} dan peminjam paling sedikit berada pada hari {days_map[min_day]}.\")\n"
   ]
  },
  {
   "cell_type": "markdown",
   "metadata": {},
   "source": [
    "## Conclusion"
   ]
  },
  {
   "cell_type": "markdown",
   "metadata": {},
   "source": [
    "- Conclution pertanyaan 1"
   ]
  },
  {
   "cell_type": "code",
   "execution_count": null,
   "metadata": {},
   "outputs": [],
   "source": [
    "\n",
    "st.write(f\"Peminjam terbanyak berada pada {seasons_map[max_season]} dan peminjam paling sedikit berada pada {seasons_map[min_season]}.\")\n",
    "   "
   ]
  },
  {
   "cell_type": "markdown",
   "metadata": {},
   "source": [
    "- Conclution pertanyaan 2"
   ]
  },
  {
   "cell_type": "code",
   "execution_count": null,
   "metadata": {},
   "outputs": [],
   "source": [
    "st.write(f\"Peminjam terbanyak berada pada hari {days_map[max_day]} dan peminjam paling sedikit berada pada hari {days_map[min_day]}.\")\n",
    "    \n",
    "def main():\n",
    "    st.title('Analisis Data Bike Sharing')\n",
    "    data_df = load_data()\n",
    "    \n",
    "    menu = [\"Data Wrangling\", \"Exploratory Data Analysis (EDA)\"]\n",
    "    choice = st.sidebar.selectbox(\"Pilihan Menu\", menu)\n",
    "\n",
    "    if choice == \"Data Wrangling\":\n",
    "        data_wrangling(data_df)\n",
    "    elif choice == \"Exploratory Data Analysis (EDA)\":\n",
    "        eda_questions(data_df)\n",
    "\n",
    "if __name__ == \"__main__\":\n",
    "    main() "
   ]
  }
 ],
 "metadata": {
  "kernelspec": {
   "display_name": ".venv",
   "language": "python",
   "name": "python3"
  },
  "language_info": {
   "codemirror_mode": {
    "name": "ipython",
    "version": 3
   },
   "file_extension": ".py",
   "mimetype": "text/x-python",
   "name": "python",
   "nbconvert_exporter": "python",
   "pygments_lexer": "ipython3",
   "version": "3.12.2"
  }
 },
 "nbformat": 4,
 "nbformat_minor": 2
}
